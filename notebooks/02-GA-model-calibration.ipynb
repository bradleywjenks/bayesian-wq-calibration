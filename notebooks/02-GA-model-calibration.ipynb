{
 "cells": [
  {
   "cell_type": "markdown",
   "metadata": {},
   "source": [
    "# Genetic algorithm model calibration"
   ]
  },
  {
   "cell_type": "markdown",
   "metadata": {},
   "source": [
    "This notebook applies a genetic algorithm to calibrate wall decay coefficients using data from each water quality sensing period."
   ]
  },
  {
   "cell_type": "code",
   "execution_count": null,
   "metadata": {},
   "outputs": [],
   "source": [
    "import pandas as pd\n",
    "import numpy as np\n",
    "import plotly.express as px\n",
    "import plotly.graph_objects as go\n",
    "import plotly.colors\n",
    "default_colors = plotly.colors.qualitative.Plotly\n",
    "from bayesian_wq_calibration.simulation import model_simulation, sensor_model_id\n",
    "from bayesian_wq_calibration.ga import fitness\n",
    "from bayesian_wq_calibration.plotting import plot_network\n",
    "from bayesian_wq_calibration.constants import TIMESERIES_DIR"
   ]
  },
  {
   "cell_type": "markdown",
   "metadata": {},
   "source": [
    "Load sensing data for selected sensing period."
   ]
  },
  {
   "cell_type": "code",
   "execution_count": null,
   "metadata": {},
   "outputs": [],
   "source": [
    "data_period = 18 # 19 calibration events (as at 30 September 2024)\n",
    "try:\n",
    "    flow_df = pd.read_csv(TIMESERIES_DIR / f\"processed/{str(data_period).zfill(2)}-flow.csv\")\n",
    "    pressure_df = pd.read_csv(TIMESERIES_DIR / f\"processed/{str(data_period).zfill(2)}-pressure.csv\")\n",
    "    wq_df = pd.read_csv(TIMESERIES_DIR / f\"processed/{str(data_period).zfill(2)}-wq.csv\", low_memory=False)\n",
    "    cl_df = wq_df[wq_df['data_type'] == 'chlorine']\n",
    "\n",
    "    print(f\"Data period: {data_period}\")\n",
    "    print(f\"Start datetime: {flow_df['datetime'].unique()[0]}\")\n",
    "    print(f\"End datetime: {flow_df['datetime'].unique()[-1]}\")\n",
    "except:\n",
    "    print(f\"Data period {data_period} does not exist.\")"
   ]
  },
  {
   "cell_type": "markdown",
   "metadata": {},
   "source": [
    "Initialize wall decay coefficients."
   ]
  },
  {
   "cell_type": "code",
   "execution_count": null,
   "metadata": {},
   "outputs": [],
   "source": [
    "wall_grouping = 'single'\n",
    "wall_coeff_0 = -0.05\n",
    "wall_coeffs = None\n",
    "\n",
    "if wall_grouping == 'single':\n",
    "    wall_coeffs = [wall_coeff_0] * 1\n",
    "elif wall_grouping == 'diameter-based':\n",
    "    wall_coeffs = [wall_coeff_0] * 4\n",
    "elif wall_grouping == 'roughness-based':\n",
    "    wall_coeffs = [wall_coeff_0] * 8\n",
    "elif wall_grouping == 'material-based':\n",
    "    wall_coeffs = [wall_coeff_0] * 3"
   ]
  },
  {
   "cell_type": "markdown",
   "metadata": {},
   "source": [
    "Compute initial fitness function value."
   ]
  },
  {
   "cell_type": "code",
   "execution_count": null,
   "metadata": {},
   "outputs": [],
   "source": [
    "obj_function = 'mse' # 'mse', 'rmse', 'mae', 'mape'\n",
    "demand_resolution = 'dma' # 'dma', 'wwmd'\n",
    "\n",
    "obj_0 = fitness(flow_df, pressure_df, cl_df, wall_coeffs, obj_function=obj_function, wall_grouping=wall_grouping, demand_resolution=demand_resolution)"
   ]
  },
  {
   "cell_type": "code",
   "execution_count": null,
   "metadata": {},
   "outputs": [],
   "source": []
  }
 ],
 "metadata": {
  "kernelspec": {
   "display_name": "Python 3 (ipykernel)",
   "language": "python",
   "name": "python3"
  },
  "language_info": {
   "codemirror_mode": {
    "name": "ipython",
    "version": 3
   },
   "file_extension": ".py",
   "mimetype": "text/x-python",
   "name": "python",
   "nbconvert_exporter": "python",
   "pygments_lexer": "ipython3",
   "version": "3.10.15"
  }
 },
 "nbformat": 4,
 "nbformat_minor": 4
}
