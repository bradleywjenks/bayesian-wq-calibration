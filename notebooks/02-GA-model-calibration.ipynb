{
 "cells": [
  {
   "cell_type": "code",
   "execution_count": null,
   "metadata": {},
   "outputs": [],
   "source": [
    "# results = model_simulation(flow_df, pressure_df, wq_df, sim_type='age', demand_resolution='wwmd', trace_node='node_2859')"
   ]
  }
 ],
 "metadata": {
  "language_info": {
   "name": "python"
  }
 },
 "nbformat": 4,
 "nbformat_minor": 2
}
