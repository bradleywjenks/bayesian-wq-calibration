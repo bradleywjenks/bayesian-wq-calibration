{
 "cells": [
  {
   "cell_type": "markdown",
   "metadata": {},
   "source": [
    "# Genetic algorithm model calibration"
   ]
  },
  {
   "cell_type": "markdown",
   "metadata": {},
   "source": [
    "This notebook applies a genetic algorithm to calibrate wall decay coefficients using data from each water quality sensing period."
   ]
  },
  {
   "cell_type": "code",
   "execution_count": 1,
   "metadata": {},
   "outputs": [],
   "source": [
    "import pandas as pd\n",
    "import numpy as np\n",
    "import plotly.express as px\n",
    "import plotly.graph_objects as go\n",
    "import plotly.colors\n",
    "default_colors = plotly.colors.qualitative.Plotly\n",
    "from bayesian_wq_calibration.simulation import model_simulation, sensor_model_id\n",
    "from bayesian_wq_calibration.ga import fitness\n",
    "from bayesian_wq_calibration.plotting import plot_network\n",
    "from bayesian_wq_calibration.constants import TIMESERIES_DIR"
   ]
  },
  {
   "cell_type": "markdown",
   "metadata": {},
   "source": [
    "Load sensing data for selected sensing period."
   ]
  },
  {
   "cell_type": "code",
   "execution_count": 2,
   "metadata": {},
   "outputs": [
    {
     "name": "stdout",
     "output_type": "stream",
     "text": [
      "Data period: 18\n",
      "Start datetime: 2024-08-20 00:00:00\n",
      "End datetime: 2024-08-27 23:45:00\n"
     ]
    }
   ],
   "source": [
    "data_period = 18 # 19 calibration events (as at 30 September 2024)\n",
    "try:\n",
    "    flow_df = pd.read_csv(TIMESERIES_DIR / f\"processed/{str(data_period).zfill(2)}-flow.csv\")\n",
    "    pressure_df = pd.read_csv(TIMESERIES_DIR / f\"processed/{str(data_period).zfill(2)}-pressure.csv\")\n",
    "    wq_df = pd.read_csv(TIMESERIES_DIR / f\"processed/{str(data_period).zfill(2)}-wq.csv\", low_memory=False)\n",
    "    cl_df = wq_df[wq_df['data_type'] == 'chlorine']\n",
    "\n",
    "    print(f\"Data period: {data_period}\")\n",
    "    print(f\"Start datetime: {flow_df['datetime'].unique()[0]}\")\n",
    "    print(f\"End datetime: {flow_df['datetime'].unique()[-1]}\")\n",
    "except:\n",
    "    print(f\"Data period {data_period} does not exist.\")"
   ]
  },
  {
   "cell_type": "markdown",
   "metadata": {},
   "source": [
    "Initialize wall decay coefficients."
   ]
  },
  {
   "cell_type": "code",
   "execution_count": 3,
   "metadata": {},
   "outputs": [],
   "source": [
    "wall_grouping = 'single'\n",
    "wall_coeff_0 = -0.05\n",
    "wall_coeffs = None\n",
    "\n",
    "if wall_grouping == 'single':\n",
    "    wall_coeffs = [wall_coeff_0] * 1\n",
    "elif wall_grouping == 'diameter-based':\n",
    "    wall_coeffs = [wall_coeff_0] * 4\n",
    "elif wall_grouping == 'roughness-based':\n",
    "    wall_coeffs = [wall_coeff_0] * 8\n",
    "elif wall_grouping == 'material-based':\n",
    "    wall_coeffs = [wall_coeff_0] * 3"
   ]
  },
  {
   "cell_type": "markdown",
   "metadata": {},
   "source": [
    "Compute initial fitness function value."
   ]
  },
  {
   "cell_type": "code",
   "execution_count": 4,
   "metadata": {},
   "outputs": [
    {
     "name": "stdout",
     "output_type": "stream",
     "text": [
      "Error setting PRV settings @ link_2820. Default values used.\n"
     ]
    }
   ],
   "source": [
    "obj_function = 'mse' # 'mse', 'rmse', 'mae', 'mape'\n",
    "demand_resolution = 'dma' # 'dma', 'wwmd'\n",
    "\n",
    "obj_0 = fitness(flow_df, pressure_df, cl_df, wall_coeffs, obj_function=obj_function, wall_grouping=wall_grouping, demand_resolution=demand_resolution)"
   ]
  },
  {
   "cell_type": "code",
   "execution_count": 5,
   "metadata": {},
   "outputs": [
    {
     "data": {
      "text/plain": [
       "0.013658945786916846"
      ]
     },
     "execution_count": 5,
     "metadata": {},
     "output_type": "execute_result"
    }
   ],
   "source": [
    "obj_0"
   ]
  },
  {
   "cell_type": "code",
   "execution_count": 8,
   "metadata": {},
   "outputs": [
    {
     "data": {
      "text/plain": [
       "97"
      ]
     },
     "execution_count": 8,
     "metadata": {},
     "output_type": "execute_result"
    }
   ],
   "source": [
    "4 * 24 + 1"
   ]
  },
  {
   "cell_type": "code",
   "execution_count": 9,
   "metadata": {},
   "outputs": [
    {
     "data": {
      "text/html": [
       "<div>\n",
       "<style scoped>\n",
       "    .dataframe tbody tr th:only-of-type {\n",
       "        vertical-align: middle;\n",
       "    }\n",
       "\n",
       "    .dataframe tbody tr th {\n",
       "        vertical-align: top;\n",
       "    }\n",
       "\n",
       "    .dataframe thead th {\n",
       "        text-align: right;\n",
       "    }\n",
       "</style>\n",
       "<table border=\"1\" class=\"dataframe\">\n",
       "  <thead>\n",
       "    <tr style=\"text-align: right;\">\n",
       "      <th></th>\n",
       "      <th>datetime</th>\n",
       "      <th>bwfl_id</th>\n",
       "      <th>data_type</th>\n",
       "      <th>dma_id</th>\n",
       "      <th>wwmd_id</th>\n",
       "      <th>min</th>\n",
       "      <th>mean</th>\n",
       "      <th>max</th>\n",
       "    </tr>\n",
       "  </thead>\n",
       "  <tbody>\n",
       "    <tr>\n",
       "      <th>4</th>\n",
       "      <td>2024-08-20 00:00:00</td>\n",
       "      <td>BW2</td>\n",
       "      <td>chlorine</td>\n",
       "      <td>2005_2296</td>\n",
       "      <td>2304, 2301</td>\n",
       "      <td>0.341</td>\n",
       "      <td>0.344</td>\n",
       "      <td>0.347</td>\n",
       "    </tr>\n",
       "    <tr>\n",
       "      <th>13</th>\n",
       "      <td>2024-08-20 00:00:00</td>\n",
       "      <td>BW12</td>\n",
       "      <td>chlorine</td>\n",
       "      <td>2296</td>\n",
       "      <td>2297</td>\n",
       "      <td>0.423</td>\n",
       "      <td>0.424</td>\n",
       "      <td>0.425</td>\n",
       "    </tr>\n",
       "    <tr>\n",
       "      <th>14</th>\n",
       "      <td>2024-08-20 00:00:00</td>\n",
       "      <td>BW7</td>\n",
       "      <td>chlorine</td>\n",
       "      <td>2296</td>\n",
       "      <td>2294</td>\n",
       "      <td>0.022</td>\n",
       "      <td>0.026</td>\n",
       "      <td>0.029</td>\n",
       "    </tr>\n",
       "    <tr>\n",
       "      <th>23</th>\n",
       "      <td>2024-08-20 00:00:00</td>\n",
       "      <td>BW1</td>\n",
       "      <td>chlorine</td>\n",
       "      <td>2296</td>\n",
       "      <td>2297</td>\n",
       "      <td>0.419</td>\n",
       "      <td>0.422</td>\n",
       "      <td>0.424</td>\n",
       "    </tr>\n",
       "    <tr>\n",
       "      <th>24</th>\n",
       "      <td>2024-08-20 00:00:00</td>\n",
       "      <td>BW3</td>\n",
       "      <td>chlorine</td>\n",
       "      <td>2296</td>\n",
       "      <td>2293</td>\n",
       "      <td>0.370</td>\n",
       "      <td>0.371</td>\n",
       "      <td>0.372</td>\n",
       "    </tr>\n",
       "    <tr>\n",
       "      <th>...</th>\n",
       "      <td>...</td>\n",
       "      <td>...</td>\n",
       "      <td>...</td>\n",
       "      <td>...</td>\n",
       "      <td>...</td>\n",
       "      <td>...</td>\n",
       "      <td>...</td>\n",
       "      <td>...</td>\n",
       "    </tr>\n",
       "    <tr>\n",
       "      <th>34539</th>\n",
       "      <td>2024-08-27 23:45:00</td>\n",
       "      <td>BW3</td>\n",
       "      <td>chlorine</td>\n",
       "      <td>2296</td>\n",
       "      <td>2293</td>\n",
       "      <td>0.504</td>\n",
       "      <td>0.505</td>\n",
       "      <td>0.505</td>\n",
       "    </tr>\n",
       "    <tr>\n",
       "      <th>34544</th>\n",
       "      <td>2024-08-27 23:45:00</td>\n",
       "      <td>BW4</td>\n",
       "      <td>chlorine</td>\n",
       "      <td>2005</td>\n",
       "      <td>2301, 2332</td>\n",
       "      <td>0.582</td>\n",
       "      <td>0.582</td>\n",
       "      <td>0.583</td>\n",
       "    </tr>\n",
       "    <tr>\n",
       "      <th>34549</th>\n",
       "      <td>2024-08-27 23:45:00</td>\n",
       "      <td>BW5</td>\n",
       "      <td>chlorine</td>\n",
       "      <td>2005_2296</td>\n",
       "      <td>2293, 2302</td>\n",
       "      <td>0.549</td>\n",
       "      <td>0.549</td>\n",
       "      <td>0.549</td>\n",
       "    </tr>\n",
       "    <tr>\n",
       "      <th>34554</th>\n",
       "      <td>2024-08-27 23:45:00</td>\n",
       "      <td>BW6</td>\n",
       "      <td>chlorine</td>\n",
       "      <td>2296</td>\n",
       "      <td>2304</td>\n",
       "      <td>0.298</td>\n",
       "      <td>0.299</td>\n",
       "      <td>0.301</td>\n",
       "    </tr>\n",
       "    <tr>\n",
       "      <th>34559</th>\n",
       "      <td>2024-08-27 23:45:00</td>\n",
       "      <td>BW9</td>\n",
       "      <td>chlorine</td>\n",
       "      <td>2005</td>\n",
       "      <td>2302</td>\n",
       "      <td>0.411</td>\n",
       "      <td>0.413</td>\n",
       "      <td>0.415</td>\n",
       "    </tr>\n",
       "  </tbody>\n",
       "</table>\n",
       "<p>6912 rows × 8 columns</p>\n",
       "</div>"
      ],
      "text/plain": [
       "                  datetime bwfl_id data_type     dma_id     wwmd_id    min  \\\n",
       "4      2024-08-20 00:00:00     BW2  chlorine  2005_2296  2304, 2301  0.341   \n",
       "13     2024-08-20 00:00:00    BW12  chlorine       2296        2297  0.423   \n",
       "14     2024-08-20 00:00:00     BW7  chlorine       2296        2294  0.022   \n",
       "23     2024-08-20 00:00:00     BW1  chlorine       2296        2297  0.419   \n",
       "24     2024-08-20 00:00:00     BW3  chlorine       2296        2293  0.370   \n",
       "...                    ...     ...       ...        ...         ...    ...   \n",
       "34539  2024-08-27 23:45:00     BW3  chlorine       2296        2293  0.504   \n",
       "34544  2024-08-27 23:45:00     BW4  chlorine       2005  2301, 2332  0.582   \n",
       "34549  2024-08-27 23:45:00     BW5  chlorine  2005_2296  2293, 2302  0.549   \n",
       "34554  2024-08-27 23:45:00     BW6  chlorine       2296        2304  0.298   \n",
       "34559  2024-08-27 23:45:00     BW9  chlorine       2005        2302  0.411   \n",
       "\n",
       "        mean    max  \n",
       "4      0.344  0.347  \n",
       "13     0.424  0.425  \n",
       "14     0.026  0.029  \n",
       "23     0.422  0.424  \n",
       "24     0.371  0.372  \n",
       "...      ...    ...  \n",
       "34539  0.505  0.505  \n",
       "34544  0.582  0.583  \n",
       "34549  0.549  0.549  \n",
       "34554  0.299  0.301  \n",
       "34559  0.413  0.415  \n",
       "\n",
       "[6912 rows x 8 columns]"
      ]
     },
     "execution_count": 9,
     "metadata": {},
     "output_type": "execute_result"
    }
   ],
   "source": [
    "cl_df"
   ]
  },
  {
   "cell_type": "code",
   "execution_count": null,
   "metadata": {},
   "outputs": [],
   "source": []
  }
 ],
 "metadata": {
  "kernelspec": {
   "display_name": "Python 3 (ipykernel)",
   "language": "python",
   "name": "python3"
  },
  "language_info": {
   "codemirror_mode": {
    "name": "ipython",
    "version": 3
   },
   "file_extension": ".py",
   "mimetype": "text/x-python",
   "name": "python",
   "nbconvert_exporter": "python",
   "pygments_lexer": "ipython3",
   "version": "3.10.15"
  }
 },
 "nbformat": 4,
 "nbformat_minor": 4
}
