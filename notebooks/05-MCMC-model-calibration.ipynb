{
 "cells": [
  {
   "cell_type": "markdown",
   "id": "e3720c0b-385a-49a1-8c62-12a95cebf5a7",
   "metadata": {},
   "source": [
    "# Model calibration via MCMC sampling"
   ]
  },
  {
   "cell_type": "markdown",
   "id": "cfb27f6e-3e11-4c8b-8d46-65900bb50c8f",
   "metadata": {},
   "source": [
    "This notebook implements Metropolis-Hastings MCMC to infer posterior distributions of wall decay coefficients in the Bristol Water Field Lab. It employs a GP surrogate model in place of the (expensive) EPANET water quality simulator (see `04-GP_surrogate_modelling.ipynb`) and field data organized in `01-data-period-features.ipynb`."
   ]
  },
  {
   "cell_type": "code",
   "execution_count": 2,
   "id": "f1213241-ec28-4125-901e-cd798cf49654",
   "metadata": {},
   "outputs": [],
   "source": [
    "import pandas as pd\n",
    "import numpy as np\n",
    "import joblib\n",
    "from scipy.stats import truncnorm, triang, uniform, norm\n",
    "from tqdm.notebook import tqdm\n",
    "\n",
    "import plotly.graph_objects as go\n",
    "from plotly.subplots import make_subplots\n",
    "import plotly.express as px\n",
    "\n",
    "from bayesian_wq_calibration.constants import TIMESERIES_DIR, RESULTS_DIR\n",
    "# from bayesian_wq_calibration.calibration import"
   ]
  },
  {
   "cell_type": "markdown",
   "id": "39f755aa-8a82-41f6-818f-8085643b185a",
   "metadata": {},
   "source": [
    "### Load data"
   ]
  },
  {
   "cell_type": "markdown",
   "id": "1a4a9763-df5c-4767-9f4a-7a0bc75393bb",
   "metadata": {},
   "source": [
    "Load operational data for selected sensing period."
   ]
  },
  {
   "cell_type": "code",
   "execution_count": 11,
   "id": "aca0c6b6-a446-4593-b51c-e8b8f1159eb3",
   "metadata": {},
   "outputs": [],
   "source": [
    "data_period = 18 # 20 calibration events (as at 30 October 2024)\n",
    "wq_sensors_used = 'kiosk only' # 'kiosk only', 'kiosk + hydrant'\n",
    "demand_resolution = 'wwmd' # 'dma', 'wwmd'\n",
    "\n",
    "try:\n",
    "    wq_df = pd.read_csv(TIMESERIES_DIR / f\"processed/{str(data_period).zfill(2)}-wq.csv\", low_memory=False)\n",
    "    cl_df = wq_df[wq_df['data_type'] == 'chlorine']\n",
    "    \n",
    "    source_ids = ['BW1', 'BW4']\n",
    "    kiosk_ids = ['BW1', 'BW2', 'BW4', 'BW5', 'BW9', 'BW12']\n",
    "    \n",
    "    if wq_sensors_used == 'kiosk only':\n",
    "        cl_df = cl_df[(cl_df['bwfl_id'].isin(kiosk_ids)) & (~cl_df['bwfl_id'].isin(source_ids))]\n",
    "    else:\n",
    "        cl_df = cl_df[~cl_df['bwfl_id'].isin(source_ids)]\n",
    "    \n",
    "except FileNotFoundError:\n",
    "    print(f\"Data period {data_period} does not exist.\")"
   ]
  },
  {
   "cell_type": "markdown",
   "id": "3e374ef2-1f90-4f38-a9b8-05701ead3a33",
   "metadata": {},
   "source": [
    "Set modelling parameters."
   ]
  },
  {
   "cell_type": "code",
   "execution_count": 13,
   "id": "bddca091-3870-478c-b1c9-07e070edd080",
   "metadata": {},
   "outputs": [],
   "source": [
    "sim_days = 5 # must match number of days used to train GP model\n",
    "time_steps = sim_days * 24 * 4\n",
    "time_range = range(time_steps)\n",
    "datetime = cl_df['datetime'].unique()[time_range]\n",
    "\n",
    "sensor_names = cl_df['bwfl_id'].unique()"
   ]
  },
  {
   "cell_type": "code",
   "execution_count": null,
   "id": "77c3520b-89fa-4c93-82fa-747c9460dc47",
   "metadata": {},
   "outputs": [],
   "source": []
  }
 ],
 "metadata": {
  "kernelspec": {
   "display_name": "Python 3 (ipykernel)",
   "language": "python",
   "name": "python3"
  },
  "language_info": {
   "codemirror_mode": {
    "name": "ipython",
    "version": 3
   },
   "file_extension": ".py",
   "mimetype": "text/x-python",
   "name": "python",
   "nbconvert_exporter": "python",
   "pygments_lexer": "ipython3",
   "version": "3.10.15"
  }
 },
 "nbformat": 4,
 "nbformat_minor": 5
}
