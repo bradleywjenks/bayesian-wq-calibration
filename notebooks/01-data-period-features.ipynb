{
 "cells": [
  {
   "cell_type": "markdown",
   "metadata": {},
   "source": [
    "# Data period features"
   ]
  },
  {
   "cell_type": "markdown",
   "metadata": {},
   "source": [
    "This notebook presents operational and environmental features for each water quality sensing period."
   ]
  },
  {
   "cell_type": "code",
   "execution_count": null,
   "metadata": {},
   "outputs": [],
   "source": [
    "import pandas as pd\n",
    "import numpy as np\n",
    "import plotly.express as px\n",
    "import plotly.graph_objects as go\n",
    "import plotly.colors\n",
    "default_colors = plotly.colors.qualitative.Plotly\n",
    "from bayesian_wq_calibration.epanet import model_simulation\n",
    "from bayesian_wq_calibration.plotting import plot_network\n",
    "from bayesian_wq_calibration.constants import TIMESERIES_DIR\n",
    "from bayesian_wq_calibration.data import get_sensor_stats, count_pressure_events, count_turbidity_events"
   ]
  },
  {
   "cell_type": "markdown",
   "metadata": {},
   "source": [
    "Load sensing data for selected sensing period."
   ]
  },
  {
   "cell_type": "code",
   "execution_count": null,
   "metadata": {},
   "outputs": [],
   "source": [
    "data_period = 16 # 20 calibration events (as at 30 October 2024)\n",
    "try:\n",
    "    flow_df = pd.read_csv(TIMESERIES_DIR / f\"processed/{str(data_period).zfill(2)}-flow.csv\")\n",
    "    pressure_df = pd.read_csv(TIMESERIES_DIR / f\"processed/{str(data_period).zfill(2)}-pressure.csv\")\n",
    "    wq_df = pd.read_csv(TIMESERIES_DIR / f\"processed/{str(data_period).zfill(2)}-wq.csv\", low_memory=False)\n",
    "\n",
    "    print(f\"Data period: {data_period}\")\n",
    "    print(f\"Start datetime: {flow_df['datetime'].unique()[0]}\")\n",
    "    print(f\"End datetime: {flow_df['datetime'].unique()[-1]}\")\n",
    "except:\n",
    "    print(f\"Data period {data_period} does not exist.\")"
   ]
  },
  {
   "cell_type": "markdown",
   "metadata": {},
   "source": [
    "### Sensor map"
   ]
  },
  {
   "cell_type": "code",
   "execution_count": null,
   "metadata": {},
   "outputs": [],
   "source": [
    "plot_network(wq_sensors=True, flow_meters=True, show_legend=True)"
   ]
  },
  {
   "cell_type": "markdown",
   "metadata": {},
   "source": [
    "### Time series plotting\n",
    "Chlorine data @ DMA inlets (sources) and distribution points."
   ]
  },
  {
   "cell_type": "code",
   "execution_count": null,
   "metadata": {},
   "outputs": [],
   "source": [
    "try:\n",
    "    wq_bwfl_ids = wq_df['bwfl_id'].unique()\n",
    "    plot_wq_df = wq_df[(wq_df['data_type'] == 'chlorine')]\n",
    "    fig = px.line(\n",
    "        plot_wq_df,\n",
    "        x='datetime',\n",
    "        y='mean',\n",
    "        color='bwfl_id',\n",
    "    )\n",
    "    fig.update_layout(\n",
    "        xaxis_title='',\n",
    "        yaxis_title='Chlorine [mg/L]',\n",
    "        legend_title_text='',\n",
    "        template='simple_white',\n",
    "        height=450\n",
    "    )\n",
    "    fig.show()\n",
    "except:\n",
    "    print(\"Plotting data not available.\")"
   ]
  },
  {
   "cell_type": "markdown",
   "metadata": {},
   "source": [
    "Missing data summary."
   ]
  },
  {
   "cell_type": "code",
   "execution_count": null,
   "metadata": {},
   "outputs": [],
   "source": [
    "summary_df = (plot_wq_df.groupby('bwfl_id')['mean'].agg(data_percentage=lambda x: int(x.notna().sum() / len(x) * 100)))\n",
    "display(summary_df)"
   ]
  },
  {
   "cell_type": "markdown",
   "metadata": {},
   "source": [
    "Flow data @ DMA inlets and dynamic boundary valves."
   ]
  },
  {
   "cell_type": "code",
   "execution_count": null,
   "metadata": {},
   "outputs": [],
   "source": [
    "try:\n",
    "    flow_bwfl_ids = ['inlet_2296', 'inlet_2005', 'Snowden Road DBV', 'New Station Way DBV']\n",
    "    # flow_bwfl_ids = flow_df['bwfl_id'].unique()\n",
    "    plot_flow_df = flow_df[flow_df['bwfl_id'].isin(flow_bwfl_ids)]\n",
    "    fig = px.line(\n",
    "        plot_flow_df,\n",
    "        x='datetime',\n",
    "        y='mean',\n",
    "        color='bwfl_id',\n",
    "    )\n",
    "    fig.update_layout(\n",
    "        xaxis_title='',\n",
    "        yaxis_title='Flow [L/s]',\n",
    "        legend_title_text='',\n",
    "        template='simple_white',\n",
    "        height=450,\n",
    "    )\n",
    "    fig.show()\n",
    "except:\n",
    "    print(\"Plotting data not available.\")"
   ]
  },
  {
   "cell_type": "markdown",
   "metadata": {},
   "source": [
    "Pressure data @ DMA inlets and control valve locations."
   ]
  },
  {
   "cell_type": "code",
   "execution_count": null,
   "metadata": {},
   "outputs": [],
   "source": [
    "try:\n",
    "    pressure_bwfl_ids = ['BWFL 19', 'Stoke Lane PRV (outlet)', 'Snowden Road PRV (inlet)', 'Snowden Road PRV (outlet)', 'New Station Way PRV (inlet)', 'New Station Way PRV (outlet)', 'Lodge Causeway PRV (outlet)', 'Woodland Way PRV (outlet)', 'Woodland Way PRV (inlet)']\n",
    "    # pressure_bwfl_ids = pressure_df['bwfl_id'].unique()\n",
    "    plot_pressure_df = pressure_df[pressure_df['bwfl_id'].isin(pressure_bwfl_ids)]\n",
    "    fig = px.line(\n",
    "        plot_pressure_df,\n",
    "        x='datetime',\n",
    "        y='mean',\n",
    "        color='bwfl_id',\n",
    "    )\n",
    "    fig.update_layout(\n",
    "        xaxis_title='',\n",
    "        yaxis_title='Pressure [m]',\n",
    "        legend_title_text='',\n",
    "        template='simple_white',\n",
    "        height=450,\n",
    "    )\n",
    "    fig.show()\n",
    "except:\n",
    "    print(\"Plotting data not available.\")"
   ]
  },
  {
   "cell_type": "markdown",
   "metadata": {},
   "source": [
    "### Hydraulic conditions"
   ]
  },
  {
   "cell_type": "markdown",
   "metadata": {},
   "source": [
    "Flow comparison of data period v. entire dataset (2021-2024).  "
   ]
  },
  {
   "cell_type": "code",
   "execution_count": null,
   "metadata": {},
   "outputs": [],
   "source": [
    "plot_flow_df = plot_flow_df.dropna(subset=['mean'])\n",
    "flow_period_stats = plot_flow_df.groupby('bwfl_id')['mean'].describe(percentiles=[.01, .10, .25, .50, .75, .90, .99])\n",
    "flow_dataset_stats = get_sensor_stats('flow', flow_bwfl_ids)\n",
    "\n",
    "fig = go.Figure()\n",
    "\n",
    "for i, bwfl_id in enumerate(flow_period_stats.index):\n",
    "    stats = flow_dataset_stats.loc[bwfl_id]\n",
    "    \n",
    "    fig.add_trace(go.Box(\n",
    "        x=[bwfl_id],\n",
    "        lowerfence=[stats['min']],\n",
    "        q1=[stats['25%']],\n",
    "        median=[stats['50%']],\n",
    "        q3=[stats['75%']],\n",
    "        upperfence=[stats['max']],\n",
    "        name='Entire dataset',\n",
    "        marker_color=default_colors[1],\n",
    "        boxpoints=False,\n",
    "        offsetgroup='flow_dataset_stats',\n",
    "        showlegend=(i == 0)\n",
    "    ))\n",
    "\n",
    "for i, bwfl_id in enumerate(flow_period_stats.index):\n",
    "    stats = flow_period_stats.loc[bwfl_id]\n",
    "    \n",
    "    fig.add_trace(go.Box(\n",
    "        x=[bwfl_id],\n",
    "        lowerfence=[stats['min']],\n",
    "        q1=[stats['25%']],\n",
    "        median=[stats['50%']],\n",
    "        q3=[stats['75%']],\n",
    "        upperfence=[stats['max']],\n",
    "        name=f'Data period {str(data_period).zfill(2)}',\n",
    "        marker_color=default_colors[0],\n",
    "        boxpoints=False,\n",
    "        offsetgroup='flow_period_stats',\n",
    "        showlegend=(i == 0)\n",
    "    ))\n",
    "\n",
    "fig.update_layout(\n",
    "    yaxis_title='Flow [L/s]',\n",
    "    xaxis_title='',\n",
    "    xaxis=dict(\n",
    "        tickmode='array',\n",
    "        tickvals=flow_period_stats.index,\n",
    "        ticktext=flow_period_stats.index\n",
    "    ),\n",
    "    legend_title_text='',\n",
    "    template='simple_white',\n",
    "    boxmode='group',\n",
    "    height=450,\n",
    ")\n",
    "\n",
    "fig.show()"
   ]
  },
  {
   "cell_type": "markdown",
   "metadata": {},
   "source": [
    "Count pressure events, defined as a change in pressure of over $\\Delta p=$ {threshold} m during a 15-minute time step."
   ]
  },
  {
   "cell_type": "code",
   "execution_count": null,
   "metadata": {},
   "outputs": [],
   "source": [
    "p_threshold = 15\n",
    "pressure_events = count_pressure_events(threshold=p_threshold)\n",
    "\n",
    "fig = go.Figure()\n",
    "\n",
    "fig.add_trace(go.Box(\n",
    "    y=pressure_events,\n",
    "    x=['num_events'] * len(pressure_events),\n",
    "    name='Entire dataset',\n",
    "    marker_color='grey',\n",
    "    boxpoints=False\n",
    "))\n",
    "\n",
    "fig.add_trace(go.Scatter(\n",
    "    y=[pressure_events[data_period-1]],\n",
    "    x=['num_events'],\n",
    "    marker_color=default_colors[1],\n",
    "    marker=dict(color=default_colors[1], size=12),\n",
    "    mode=\"markers\",\n",
    "    name=f'Data period {str(data_period).zfill(2)}',\n",
    "))\n",
    "\n",
    "fig.update_layout(\n",
    "    yaxis_title=f\"No. pressure events > {p_threshold} m\",\n",
    "    xaxis_title='Field Lab',\n",
    "    template='simple_white',\n",
    "    height=500,\n",
    "    width=500,\n",
    "    xaxis=dict(\n",
    "        showticklabels=False\n",
    "    ),\n",
    "    yaxis=dict(\n",
    "        range=[0, None],\n",
    "        tickformat=',d',\n",
    "        nticks=6\n",
    "    )\n",
    ")\n",
    "\n",
    "fig.show()"
   ]
  },
  {
   "cell_type": "markdown",
   "metadata": {},
   "source": [
    "### Water quality conditions"
   ]
  },
  {
   "cell_type": "markdown",
   "metadata": {},
   "source": [
    "Temperature comparison between data period and entire dataset (2021-2024)."
   ]
  },
  {
   "cell_type": "code",
   "execution_count": null,
   "metadata": {},
   "outputs": [],
   "source": [
    "temp_df = wq_df[(wq_df['data_type'] == 'temperature')].dropna(subset=['mean'])\n",
    "temp_period_stats = temp_df.groupby('bwfl_id')['mean'].describe(percentiles=[.01, .10, .25, .50, .75, .90, .99])\n",
    "temp_dataset_stats = get_sensor_stats('temperature', temp_df['bwfl_id'].unique())\n",
    "\n",
    "fig = go.Figure()\n",
    "\n",
    "for i, bwfl_id in enumerate(temp_dataset_stats.index):\n",
    "    stats = temp_dataset_stats.loc[bwfl_id]\n",
    "\n",
    "    if stats['count'] != 0:\n",
    "        fig.add_trace(go.Box(\n",
    "            x=[bwfl_id],\n",
    "            lowerfence=[stats['min']],\n",
    "            q1=[stats['25%']],\n",
    "            median=[stats['50%']],\n",
    "            q3=[stats['75%']],\n",
    "            upperfence=[stats['max']],\n",
    "            name='Entire dataset',\n",
    "            marker_color=default_colors[3],\n",
    "            boxpoints=False,\n",
    "            offsetgroup='temp_dataset_stats',\n",
    "            showlegend=(i == 0)\n",
    "        ))\n",
    "\n",
    "for i, bwfl_id in enumerate(temp_period_stats.index):\n",
    "    stats = temp_period_stats.loc[bwfl_id]\n",
    "\n",
    "    if stats['count'] != 0:\n",
    "        fig.add_trace(go.Box(\n",
    "            x=[bwfl_id],\n",
    "            lowerfence=[stats['min']],\n",
    "            q1=[stats['25%']],\n",
    "            median=[stats['50%']],\n",
    "            q3=[stats['75%']],\n",
    "            upperfence=[stats['max']],\n",
    "            name=f'Data period {str(data_period).zfill(2)}',\n",
    "            marker_color=default_colors[2],\n",
    "            boxpoints=False,\n",
    "            offsetgroup='temp_period_stats',\n",
    "            showlegend=(i == 0)\n",
    "        ))\n",
    "\n",
    "fig.update_layout(\n",
    "    yaxis_title='Temperature [\\u00B0C]',\n",
    "    xaxis_title='',\n",
    "    xaxis=dict(\n",
    "        tickmode='array',\n",
    "        tickvals=sorted(temp_df['bwfl_id'].unique(), key=lambda x: int(x[2:])),\n",
    "        ticktext=sorted(temp_df['bwfl_id'].unique(), key=lambda x: int(x[2:])),\n",
    "        categoryorder='array',\n",
    "        categoryarray=sorted(temp_df['bwfl_id'].unique(), key=lambda x: int(x[2:]))\n",
    "    ),\n",
    "    legend_title_text='',\n",
    "    template='simple_white',\n",
    "    boxmode='group',\n",
    "    height=450,\n",
    ")\n",
    "\n",
    "fig.show()"
   ]
  },
  {
   "cell_type": "markdown",
   "metadata": {},
   "source": [
    "pH comparison between data period and entire dataset (2021-2024)."
   ]
  },
  {
   "cell_type": "code",
   "execution_count": null,
   "metadata": {},
   "outputs": [],
   "source": [
    "ph_df = wq_df[(wq_df['data_type'] == 'ph')].dropna(subset=['mean'])\n",
    "ph_df.loc[(ph_df['mean'] < 4) | (ph_df['mean'] > 11), 'mean'] = np.nan\n",
    "ph_period_stats = ph_df.groupby('bwfl_id')['mean'].describe(percentiles=[.01, .10, .25, .50, .75, .90, .99])\n",
    "ph_dataset_stats = get_sensor_stats('ph', ph_df['bwfl_id'].unique())\n",
    "\n",
    "fig = go.Figure()\n",
    "\n",
    "for i, bwfl_id in enumerate(ph_period_stats.index):\n",
    "    stats = ph_period_stats.loc[bwfl_id]\n",
    "\n",
    "    if stats['count'] != 0:\n",
    "        fig.add_trace(go.Box(\n",
    "            x=[bwfl_id],\n",
    "            lowerfence=[stats['min']],\n",
    "            q1=[stats['25%']],\n",
    "            median=[stats['50%']],\n",
    "            q3=[stats['75%']],\n",
    "            upperfence=[stats['max']],\n",
    "            name=f'Data period {str(data_period).zfill(2)}',\n",
    "            marker_color=default_colors[2],\n",
    "            boxpoints=False,\n",
    "            offsetgroup='temp_period_stats',\n",
    "            showlegend=(i == 0)\n",
    "        ))\n",
    "\n",
    "for i, bwfl_id in enumerate(ph_dataset_stats.index):\n",
    "    stats = ph_dataset_stats.loc[bwfl_id]\n",
    "\n",
    "    if stats['count'] != 0:\n",
    "        fig.add_trace(go.Box(\n",
    "            x=[bwfl_id],\n",
    "            lowerfence=[stats['min']],\n",
    "            q1=[stats['25%']],\n",
    "            median=[stats['50%']],\n",
    "            q3=[stats['75%']],\n",
    "            upperfence=[stats['max']],\n",
    "            name='Entire dataset',\n",
    "            marker_color=default_colors[3],\n",
    "            boxpoints=False,\n",
    "            offsetgroup='temp_dataset_stats',\n",
    "            showlegend=(i == 0)\n",
    "        ))\n",
    "\n",
    "fig.update_layout(\n",
    "    yaxis_title='pH',\n",
    "    xaxis_title='',\n",
    "    xaxis=dict(\n",
    "        tickmode='array',\n",
    "        tickvals=sorted(ph_df['bwfl_id'].unique(), key=lambda x: int(x[2:])),\n",
    "        ticktext=sorted(ph_df['bwfl_id'].unique(), key=lambda x: int(x[2:])),\n",
    "        categoryorder='array',\n",
    "        categoryarray=sorted(ph_df['bwfl_id'].unique(), key=lambda x: int(x[2:]))\n",
    "    ),\n",
    "    legend_title_text='',\n",
    "    template='simple_white',\n",
    "    boxmode='group',\n",
    "    height=450,\n",
    ")\n",
    "\n",
    "fig.show()"
   ]
  },
  {
   "cell_type": "markdown",
   "metadata": {},
   "source": [
    "Count turbidity events, defined as a 15-minute timestep with turbidity value measurements above {ntu_threshold} NTU. "
   ]
  },
  {
   "cell_type": "code",
   "execution_count": null,
   "metadata": {},
   "outputs": [],
   "source": [
    "ntu_threshold = 5\n",
    "turbidity_events = count_turbidity_events(threshold=ntu_threshold)\n",
    "ntu_dataset_stats = turbidity_events.groupby('bwfl_id')['num_events'].describe(percentiles=[.01, .10, .25, .50, .75, .90, .99])\n",
    "ntu_period_stats = turbidity_events[turbidity_events['data_period'] == data_period][['bwfl_id', 'num_events']]\n",
    "\n",
    "fig = go.Figure()\n",
    "\n",
    "for i, bwfl_id in enumerate(ntu_dataset_stats.index):\n",
    "    stats = ntu_dataset_stats.loc[bwfl_id]\n",
    "\n",
    "    if stats['count'] != 0:\n",
    "        fig.add_trace(go.Box(\n",
    "            x=[bwfl_id],\n",
    "            lowerfence=[stats['min']],\n",
    "            q1=[stats['25%']],\n",
    "            median=[stats['50%']],\n",
    "            q3=[stats['75%']],\n",
    "            upperfence=[stats['max']],\n",
    "            name='Entire dataset',\n",
    "            marker_color='grey',\n",
    "            boxpoints=False,\n",
    "            offsetgroup='dataset_stats',\n",
    "            showlegend=(i == 0)\n",
    "        ))\n",
    "\n",
    "fig.add_trace(go.Scatter(\n",
    "    y=ntu_period_stats['num_events'],\n",
    "    x=ntu_period_stats['bwfl_id'],\n",
    "    marker_color=default_colors[1],\n",
    "    marker=dict(color=default_colors[1], size=12),\n",
    "    mode=\"markers\",\n",
    "    name=f'Data period {str(data_period).zfill(2)}',\n",
    "))\n",
    "\n",
    "fig.update_layout(\n",
    "    yaxis_title=f\"No. turbidity events > {ntu_threshold} NTU\",\n",
    "    xaxis_title='',\n",
    "    xaxis=dict(\n",
    "        tickmode='array',\n",
    "        tickvals=sorted(turbidity_events['bwfl_id'].unique(), key=lambda x: int(x[2:])),\n",
    "        ticktext=sorted(turbidity_events['bwfl_id'].unique(), key=lambda x: int(x[2:])),\n",
    "        categoryorder='array',\n",
    "        categoryarray=sorted(turbidity_events['bwfl_id'].unique(), key=lambda x: int(x[2:]))\n",
    "    ),\n",
    "    legend_title_text='',\n",
    "    template='simple_white',\n",
    "    boxmode='group',\n",
    "    height=450,\n",
    ")\n",
    "\n",
    "fig.show()"
   ]
  },
  {
   "cell_type": "code",
   "execution_count": null,
   "metadata": {},
   "outputs": [],
   "source": []
  }
 ],
 "metadata": {
  "kernelspec": {
   "display_name": "Python 3 (ipykernel)",
   "language": "python",
   "name": "python3"
  },
  "language_info": {
   "codemirror_mode": {
    "name": "ipython",
    "version": 3
   },
   "file_extension": ".py",
   "mimetype": "text/x-python",
   "name": "python",
   "nbconvert_exporter": "python",
   "pygments_lexer": "ipython3",
   "version": "3.10.15"
  }
 },
 "nbformat": 4,
 "nbformat_minor": 4
}
