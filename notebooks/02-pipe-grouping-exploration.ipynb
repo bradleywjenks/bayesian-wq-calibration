{
 "cells": [
  {
   "cell_type": "markdown",
   "id": "636af2f7-d061-42d1-b4d5-91ad842d3aba",
   "metadata": {},
   "source": [
    "# Pipe group classification for wall decay coefficients\n",
    "\n",
    "This notebook develops a systematic approach for grouping pipes to assign wall decay coefficients in the Bristol Water Field Lab's water quality model. The classification incorporates the following.\n",
    "\n",
    "Physical parameters:\n",
    "- pipe material, age, and diameter\n",
    "\n",
    "Hydraulic conditions:\n",
    "- mean flow velocity\n",
    "- self-cleaning capacity (SCC) threshold\n",
    "\n",
    "The resulting pipe groups inform both deterministic (genetic algorithm) and probabilistic (Bayesian inference) calibration of wall decay coefficients. The analysis concludes by mapping these groups against the network's sensor-observable paths to evaluate monitoring coverage."
   ]
  },
  {
   "cell_type": "code",
   "execution_count": 1,
   "id": "1595cf71-3dee-498e-aceb-6df80459598a",
   "metadata": {},
   "outputs": [],
   "source": [
    "import networkx as nx\n",
    "import numpy as np\n",
    "import pandas as pd\n",
    "import plotly.graph_objects as go\n",
    "import plotly.colors\n",
    "from plotly.subplots import make_subplots\n",
    "import plotly.io as pio\n",
    "default_colors = plotly.colors.qualitative.Plotly\n",
    "from datetime import datetime\n",
    "from bayesian_wq_calibration.data import load_network_data\n",
    "from bayesian_wq_calibration.plotting import plot_network_features\n",
    "from bayesian_wq_calibration.constants import NETWORK_DIR, INP_FILE, TIMESERIES_DIR, RESULTS_DIR\n",
    "from bayesian_wq_calibration.epanet import build_model, epanet_simulator, sensor_model_id\n",
    "from bayesian_wq_calibration.calibration import get_observable_paths\n",
    "\n",
    "pio.renderers.default = \"notebook+pdf\""
   ]
  },
  {
   "cell_type": "markdown",
   "id": "ec5c5f74-cb6e-4c60-b5b2-32863a6c466b",
   "metadata": {},
   "source": [
    "### Load network data"
   ]
  },
  {
   "cell_type": "markdown",
   "id": "4a1cf710-ab4d-40e0-8db1-8ca608d41563",
   "metadata": {},
   "source": [
    "Get EPANET and GIS data."
   ]
  },
  {
   "cell_type": "code",
   "execution_count": 2,
   "id": "aac1de7a-6316-42e2-a211-7c3694c62ae5",
   "metadata": {},
   "outputs": [],
   "source": [
    "wdn = load_network_data(NETWORK_DIR / INP_FILE)\n",
    "link_df = wdn.link_df\n",
    "node_df = wdn.node_df\n",
    "net_info = wdn.net_info\n",
    "gis_df = pd.read_excel(NETWORK_DIR / 'gis_data.xlsx')"
   ]
  },
  {
   "cell_type": "markdown",
   "id": "b4004dad-7f55-4412-9ed3-9cf7252c9e64",
   "metadata": {},
   "source": [
    "Run EPANET simulation to get hydraulic data."
   ]
  },
  {
   "cell_type": "code",
   "execution_count": 3,
   "id": "dfdc9daf-4d02-46dc-8658-1dade19448d5",
   "metadata": {},
   "outputs": [],
   "source": [
    "data_period = 16 # 20 calibration events (as at 30 October 2024)\n",
    "try:\n",
    "    flow_df = pd.read_csv(TIMESERIES_DIR / f\"processed/{str(data_period).zfill(2)}-flow.csv\")\n",
    "    pressure_df = pd.read_csv(TIMESERIES_DIR / f\"processed/{str(data_period).zfill(2)}-pressure.csv\")\n",
    "    wq_df = pd.read_csv(TIMESERIES_DIR / f\"processed/{str(data_period).zfill(2)}-wq.csv\", low_memory=False)\n",
    "    cl_df = wq_df[wq_df['data_type'] == 'chlorine']\n",
    "except:\n",
    "    print(f\"Data period {data_period} does not exist.\")\n",
    "\n",
    "# build wntr model\n",
    "demand_resolution = 'wwmd'\n",
    "wn = build_model(flow_df, pressure_df, cl_df, sim_type='hydraulic', demand_resolution=demand_resolution)\n",
    "\n",
    "# run epanet simulator\n",
    "sim = epanet_simulator(wn, 'velocity', cl_df)\n",
    "vel = sim.velocity.T"
   ]
  },
  {
   "cell_type": "code",
   "execution_count": null,
   "id": "764434e8-862a-454b-91e2-6d78d671770e",
   "metadata": {},
   "outputs": [],
   "source": [
    "# get velocity features\n",
    "vel_mean = vel.mean(axis=1)\n",
    "vel_max = vel.max(axis=1) \n",
    "scc_thresh = 0.2\n",
    "vel_scc = (vel_max > scc_thresh).astype(str)\n",
    "\n",
    "vel_df = pd.DataFrame({\n",
    "    'model_id': vel_mean.index,\n",
    "    'vel_mean': vel_mean.values,\n",
    "    'vel_max': vel_max.values,\n",
    "    'vel_scc': vel_scc.values\n",
    "})"
   ]
  },
  {
   "cell_type": "markdown",
   "id": "02125809-c409-4ac2-8e96-8e979f1d27bd",
   "metadata": {},
   "source": [
    "Merge physical and operational pipe properties to single dataframe."
   ]
  },
  {
   "cell_type": "code",
   "execution_count": null,
   "id": "774d472f-b74a-4a0f-aa01-f715c12a4dd4",
   "metadata": {},
   "outputs": [],
   "source": [
    "feature_df = link_df.copy()\n",
    "feature_df = feature_df[feature_df['link_type'] != 'valve']\n",
    "\n",
    "# merge dataframes\n",
    "feature_df = feature_df.merge(\n",
    "    gis_df[['model_id', 'material', 'age']], \n",
    "    left_on='link_ID', right_on='model_id', how='left'\n",
    ").drop(columns=['model_id']).rename(columns={'link_ID': 'model_id'})\n",
    "feature_df = feature_df[['model_id'] + [col for col in feature_df.columns if col != 'model_id']]\n",
    "feature_df = feature_df.merge(vel_df, on='model_id', how='left')\n",
    "\n",
    "# compute additional features\n",
    "feature_df['mean_residence_time_h'] = feature_df.apply(lambda row: np.nan if row['vel_mean'] == 0 else row['length'] / row['vel_mean'] / 3600, axis=1)\n",
    "feature_df['mean_residence_time_h'] = feature_df['mean_residence_time_h'].where(feature_df['mean_residence_time_h'] <= 24, 0)\n",
    "feature_df['age'] = feature_df['age'].where(feature_df['age'] >= 1800, np.nan)\n",
    "feature_df['age'] = datetime.now().year - feature_df['age']\n",
    "feature_df['age'] = feature_df['age'].fillna(50).astype(int)\n",
    "feature_df['length_normalized'] = feature_df['length'] / feature_df['length'].sum()\n",
    "\n",
    "feature_df"
   ]
  },
  {
   "cell_type": "markdown",
   "id": "6024fd4f-5de8-4e34-9a73-e2ce79a78efc",
   "metadata": {},
   "source": [
    "### Explore pipe features"
   ]
  },
  {
   "cell_type": "markdown",
   "id": "17d8e3cc-d1b3-4eac-9dce-233801c91135",
   "metadata": {},
   "source": [
    "Material grouping."
   ]
  },
  {
   "cell_type": "code",
   "execution_count": null,
   "id": "272ca10c-5bea-4d93-a541-f4b190e0a298",
   "metadata": {},
   "outputs": [],
   "source": [
    "M1 = ['CI', 'SI', 'Pb', 'DI', 'ST']\n",
    "M2 = ['AC']\n",
    "M3 = ['HPPE', 'HPPE+FOIL', 'LDPE', 'MDPE', 'MDPE+FOIL', 'PE100+Skin', 'PVC', 'Unknown']\n",
    "\n",
    "feature_df['material_group'] = [\n",
    "    'M1' if material in M1 else \n",
    "    'M2' if material in M2 else\n",
    "    'M3' if material in M3 else\n",
    "    np.nan\n",
    "    for material in feature_df['material']\n",
    "]\n",
    "\n",
    "# plotting\n",
    "feature = 'material_group'\n",
    "feature_order = ['M1', 'M2', 'M3']\n",
    "feature_by_count = feature_df[feature].value_counts()\n",
    "feature_by_length = feature_df.groupby(feature)['length_normalized'].sum()\n",
    "feature_by_count = feature_by_count[feature_order]\n",
    "feature_by_length = feature_by_length[feature_order]\n",
    "\n",
    "fig = plot_network_features(feature_df, feature=feature)\n",
    "\n",
    "fig = make_subplots(rows=1, cols=2, horizontal_spacing=0.15)\n",
    "fig.add_trace(go.Bar(x=feature_order, y=feature_by_count.values, marker=dict(color=default_colors[0]), name='pipe count', width=0.5), row=1, col=1)\n",
    "fig.add_trace(go.Bar(x=feature_order, y=feature_by_length.values, marker=dict(color=default_colors[1]), name=\"percent of network\", width=0.5), row=1, col=2)\n",
    "fig.update_layout(\n",
    "    title=f'histograms for feature: {feature}',\n",
    "    xaxis_title_text='',\n",
    "    xaxis2_title_text='',\n",
    "    yaxis_title_text='pipe count',\n",
    "    yaxis2_title_text='pipe length [%]',\n",
    "    template=\"simple_white\",\n",
    "    width=1200,\n",
    "    height=450\n",
    ")\n",
    "fig.show()"
   ]
  },
  {
   "cell_type": "markdown",
   "id": "2b49ec36-6246-4ff5-a17b-d10975e0b0e1",
   "metadata": {},
   "source": [
    "Age grouping."
   ]
  },
  {
   "cell_type": "code",
   "execution_count": null,
   "id": "b9e3b1ed-4b7e-4333-86ca-82ffdae1cc61",
   "metadata": {},
   "outputs": [],
   "source": [
    "age_thresh = [20, 70]\n",
    "feature_df['age_group'] = [\n",
    "    'A1' if age <= age_thresh[0] else \n",
    "    'A2' if age > age_thresh[0] and age <= age_thresh[1] else \n",
    "    'A3' if age > age_thresh[1] else \n",
    "    np.nan\n",
    "    for age in feature_df['age']\n",
    "]\n",
    "\n",
    "# plotting\n",
    "feature = 'age_group'\n",
    "feature_order = ['A1', 'A2', 'A3']\n",
    "feature_by_count = feature_df[feature].value_counts()\n",
    "feature_by_length = feature_df.groupby(feature)['length_normalized'].sum()\n",
    "feature_by_count = feature_by_count[feature_order]\n",
    "feature_by_length = feature_by_length[feature_order]\n",
    "\n",
    "\n",
    "fig = plot_network_features(feature_df, feature=feature)\n",
    "\n",
    "fig = make_subplots(rows=1, cols=2, horizontal_spacing=0.15)\n",
    "fig.add_trace(go.Bar(x=feature_order, y=feature_by_count.values, marker=dict(color=default_colors[0]), name='pipe count', width=0.5), row=1, col=1)\n",
    "fig.add_trace(go.Bar(x=feature_order, y=feature_by_length.values, marker=dict(color=default_colors[1]), name=\"percent of network\", width=0.5), row=1, col=2)\n",
    "fig.update_layout(\n",
    "    title=f'histograms for feature: {feature}',\n",
    "    xaxis_title_text='',\n",
    "    xaxis2_title_text='',\n",
    "    yaxis_title_text='pipe count',\n",
    "    yaxis2_title_text='pipe length [%]',\n",
    "    template=\"simple_white\",\n",
    "    width=1200,\n",
    "    height=450\n",
    ")\n",
    "fig.show()"
   ]
  },
  {
   "cell_type": "markdown",
   "id": "a8329547-7449-413c-9206-731def255d1e",
   "metadata": {},
   "source": [
    "Diameter grouping."
   ]
  },
  {
   "cell_type": "code",
   "execution_count": null,
   "id": "20ba1099-1131-4625-b018-002f4172ec96",
   "metadata": {},
   "outputs": [],
   "source": [
    "diameter_thresh = [0.1]\n",
    "feature_df['diameter_group'] = [\n",
    "    'D1' if diameter <= diameter_thresh[0] else \n",
    "    'D2' if diameter > diameter_thresh[0] else \n",
    "    np.nan\n",
    "    for diameter in feature_df['diameter']\n",
    "]\n",
    "\n",
    "# plotting\n",
    "feature = 'diameter_group'\n",
    "feature_order = ['D1', 'D2']\n",
    "feature_by_count = feature_df[feature].value_counts()\n",
    "feature_by_length = feature_df.groupby(feature)['length_normalized'].sum()\n",
    "feature_by_count = feature_by_count[feature_order]\n",
    "feature_by_length = feature_by_length[feature_order]\n",
    "\n",
    "fig = plot_network_features(feature_df, feature=feature)\n",
    "\n",
    "fig = make_subplots(rows=1, cols=2, horizontal_spacing=0.15)\n",
    "fig.add_trace(go.Bar(x=feature_order, y=feature_by_count.values, marker=dict(color=default_colors[0]), name='pipe count', width=0.4), row=1, col=1)\n",
    "fig.add_trace(go.Bar(x=feature_order, y=feature_by_length.values, marker=dict(color=default_colors[1]), name=\"pipe length\", width=0.4), row=1, col=2)\n",
    "fig.update_layout(\n",
    "    title=f'histograms for feature: {feature}',\n",
    "    xaxis_title_text='',\n",
    "    xaxis2_title_text='',\n",
    "    yaxis_title_text='pipe count',\n",
    "    yaxis2_title_text='pipe length [%]',\n",
    "    template=\"simple_white\",\n",
    "    width=1200,\n",
    "    height=450\n",
    ")\n",
    "fig.show()"
   ]
  },
  {
   "cell_type": "markdown",
   "id": "3a042fb0-557e-4832-938e-cea517348bad",
   "metadata": {},
   "source": [
    "Mean velocity grouping."
   ]
  },
  {
   "cell_type": "code",
   "execution_count": null,
   "id": "b1b8f2ab-1eba-42b4-bc3e-b8c88de805c0",
   "metadata": {},
   "outputs": [],
   "source": [
    "median = feature_df['vel_mean'].quantile(0.55)\n",
    "\n",
    "feature_df['vel_mean_group'] = [\n",
    "    'V1' if vel_mean <= median else \n",
    "    'V2' if vel_mean > median else \n",
    "    np.nan\n",
    "    for vel_mean in feature_df['vel_mean']\n",
    "]\n",
    "\n",
    "feature = 'vel_mean_group'\n",
    "feature_order = ['V1', 'V2']\n",
    "feature_by_count = feature_df[feature].value_counts()\n",
    "feature_by_length = feature_df.groupby(feature)['length_normalized'].sum()\n",
    "feature_by_count = feature_by_count[feature_order]\n",
    "feature_by_length = feature_by_length[feature_order]\n",
    "\n",
    "\n",
    "fig = plot_network_features(feature_df, feature=feature)\n",
    "\n",
    "fig = make_subplots(rows=1, cols=2, horizontal_spacing=0.15)\n",
    "fig.add_trace(go.Bar(x=feature_order, y=feature_by_count.values, marker=dict(color=default_colors[0]), name='pipe count', width=0.5), row=1, col=1)\n",
    "fig.add_trace(go.Bar(x=feature_order, y=feature_by_length.values, marker=dict(color=default_colors[1]), name=\"percent of network\", width=0.5), row=1, col=2)\n",
    "fig.update_layout(\n",
    "    title=f'histograms for feature: {feature}',\n",
    "    xaxis_title_text='',\n",
    "    xaxis2_title_text='',\n",
    "    yaxis_title_text='pipe count',\n",
    "    yaxis2_title_text='pipe length [%]',\n",
    "    template=\"simple_white\",\n",
    "    width=1200,\n",
    "    height=450\n",
    ")\n",
    "fig.show()"
   ]
  },
  {
   "cell_type": "markdown",
   "id": "52739f72-af7e-4256-a552-ba98e800e910",
   "metadata": {},
   "source": [
    "Self-cleaning capacity feature."
   ]
  },
  {
   "cell_type": "code",
   "execution_count": null,
   "id": "89383e41-d654-4d43-96aa-f61290b342ea",
   "metadata": {},
   "outputs": [],
   "source": [
    "feature = 'vel_scc'\n",
    "feature_by_count = feature_df[feature].value_counts()\n",
    "feature_by_length = feature_df.groupby(feature)['length_normalized'].sum()\n",
    "feature_order = feature_by_count.index\n",
    "feature_by_count = feature_by_count[feature_order]\n",
    "feature_by_length = feature_by_length[feature_order]\n",
    "\n",
    "fig = plot_network_features(feature_df, feature=feature)\n",
    "\n",
    "fig = make_subplots(rows=1, cols=2, horizontal_spacing=0.15)\n",
    "fig.add_trace(go.Bar(x=feature_order, y=feature_by_count.values, marker=dict(color=default_colors[0]), name='pipe count', width=0.5), row=1, col=1)\n",
    "fig.add_trace(go.Bar(x=feature_order, y=feature_by_length.values, marker=dict(color=default_colors[1]), name=\"percent of network\", width=0.5), row=1, col=2)\n",
    "fig.update_layout(\n",
    "    title=f'histograms for feature: {feature}',\n",
    "    xaxis_title_text='',\n",
    "    xaxis2_title_text='',\n",
    "    yaxis_title_text='pipe count',\n",
    "    yaxis2_title_text='percent of network [%]',\n",
    "    template=\"simple_white\",\n",
    "    width=1200,\n",
    "    height=450\n",
    ")\n",
    "fig.show()"
   ]
  },
  {
   "cell_type": "markdown",
   "id": "c0545efd-68c8-40d6-bcf2-c79c765b0ca1",
   "metadata": {},
   "source": [
    "### Select pipe grouping for calibration"
   ]
  },
  {
   "cell_type": "markdown",
   "id": "ab859d18-96cd-4ffe-b513-62a27e550524",
   "metadata": {},
   "source": [
    "Three pipe grouping options:\n",
    "1. material\n",
    "2. material --> age\n",
    "3. material --> age --> mean velocity"
   ]
  },
  {
   "cell_type": "code",
   "execution_count": null,
   "id": "0727dfb1-ddfd-4b5a-b1b3-e8f183a60252",
   "metadata": {},
   "outputs": [],
   "source": [
    "# option 1: material\n",
    "group_id = ['G1', 'G2']\n",
    "material = [['M1'], ['M2', 'M3']]\n",
    "group_1_df = pd.DataFrame({\n",
    "    'group_id': group_id,\n",
    "    'material': material\n",
    "})\n",
    "\n",
    "group_id = ['G1', 'G2', 'G3']\n",
    "material = [['M1'], ['M1'], ['M2', 'M3']]\n",
    "\n",
    "\n",
    "# option 2: material --> age\n",
    "age = [['A3'], ['A1', 'A2'], ['A1', 'A2', 'A3']]\n",
    "group_2_df = pd.DataFrame({\n",
    "    'group_id': group_id,\n",
    "    'material': material,\n",
    "    'age': age\n",
    "})\n",
    "\n",
    "group_id = ['G1', 'G2', 'G3', 'G4', 'G5']\n",
    "material = [['M1'], ['M1'], ['M1'], ['M1'], ['M2', 'M3']]\n",
    "age = [['A3'], ['A3'], ['A1', 'A2'], ['A1', 'A2'], ['A1', 'A2', 'A3']]\n",
    "\n",
    "# option 3: material --> age --> velocity\n",
    "vel_mean = [['V1'], ['V2'], ['V1'], ['V2'], ['V1', 'V2']]\n",
    "group_3_df = pd.DataFrame({\n",
    "    'group_id': group_id,\n",
    "    'material': material,\n",
    "    'age': age,\n",
    "    'vel_mean': vel_mean\n",
    "})"
   ]
  },
  {
   "cell_type": "markdown",
   "id": "3b9559a6-fb62-4482-a579-336239d4716c",
   "metadata": {},
   "source": [
    "Assign pipe groups to `feature_df`."
   ]
  },
  {
   "cell_type": "code",
   "execution_count": null,
   "id": "6088fd12-8976-479b-8733-8070eb3b0a93",
   "metadata": {},
   "outputs": [],
   "source": [
    "def assign_group(row, group_df, group_option):\n",
    "    for _, group_row in group_df.iterrows():\n",
    "        if row['material_group'] in group_row['material']:\n",
    "            if group_option == 1:\n",
    "                return group_row['group_id']\n",
    "            if row['age_group'] in group_row.get('age', []):\n",
    "                if group_option == 2:\n",
    "                    return group_row['group_id']\n",
    "                elif group_option == 3:\n",
    "                    if row['vel_mean_group'] in group_row.get('vel_mean', []):\n",
    "                        return group_row['group_id']\n",
    "    return None\n",
    "\n",
    "feature_df['material'] = feature_df.apply(lambda row: assign_group(row, group_1_df, 1), axis=1)\n",
    "feature_df['material-age'] = feature_df.apply(lambda row: assign_group(row, group_2_df, 2), axis=1)\n",
    "feature_df['material-age-velocity'] = feature_df.apply(lambda row: assign_group(row, group_3_df, 3), axis=1)"
   ]
  },
  {
   "cell_type": "code",
   "execution_count": null,
   "id": "753017b5-4a66-4d20-a330-ea6278b8582f",
   "metadata": {},
   "outputs": [],
   "source": [
    "# select feature to plot\n",
    "feature = 'material-age-velocity'\n",
    "\n",
    "if feature == 'material':\n",
    "    display(group_1_df)\n",
    "    group_id = ['G1', 'G2']\n",
    "elif feature == 'material-age':\n",
    "    display(group_2_df)\n",
    "    group_id = ['G1', 'G2', 'G3']\n",
    "elif feature == 'material-age-velocity':\n",
    "    display(group_3_df)\n",
    "    group_id = ['G1', 'G2', 'G3', 'G4', 'G5']\n",
    "\n",
    "feature_by_count = feature_df[feature].value_counts()\n",
    "feature_by_length = feature_df.groupby(feature)['length_normalized'].sum()\n",
    "feature_order = feature_by_count.index\n",
    "feature_by_count = feature_by_count[feature_order]\n",
    "feature_by_length = feature_by_length[feature_order]\n",
    "\n",
    "fig = plot_network_features(feature_df, feature=feature)\n",
    "fig.write_image(\"fig6-1a.pdf\", \n",
    "                engine=\"kaleido\",\n",
    "                scale=1)\n",
    "\n",
    "fig = make_subplots(rows=1, cols=2, horizontal_spacing=0.25)\n",
    "fig.add_trace(go.Bar(x=feature_order, y=feature_by_count.values, marker=dict(color=default_colors[0]), name='pipe count', width=0.5), row=1, col=1)\n",
    "fig.add_trace(go.Bar(x=feature_order, y=feature_by_length.values, marker=dict(color=default_colors[1]), name=\"percent of network\", width=0.5), row=1, col=2)\n",
    "fig.update_layout(\n",
    "    title=f'histograms for feature: {feature}',\n",
    "    xaxis_title_text='',\n",
    "    xaxis2_title_text='',\n",
    "    yaxis_title_text='pipe count',\n",
    "    yaxis2_title_text='percent of network [%]',\n",
    "    template=\"simple_white\",\n",
    "    width=1200,\n",
    "    height=450,\n",
    "    xaxis=dict(\n",
    "        title_font=dict(size=20),\n",
    "        tickfont=dict(size=20),\n",
    "    ),\n",
    "    xaxis2=dict(\n",
    "        title_font=dict(size=20),\n",
    "        tickfont=dict(size=20),\n",
    "    ),\n",
    "    yaxis=dict(\n",
    "        title_font=dict(size=20),\n",
    "        tickfont=dict(size=20),\n",
    "    ),\n",
    "    yaxis2=dict(\n",
    "        title_font=dict(size=20),\n",
    "        tickfont=dict(size=20),\n",
    "    ),\n",
    ")\n",
    "fig.update_xaxes(categoryorder='array', categoryarray=group_id)\n",
    "fig.show()"
   ]
  },
  {
   "cell_type": "markdown",
   "id": "57510dd8-e752-42e2-b3ee-7c78200ca562",
   "metadata": {},
   "source": [
    "Save `feature_df` to csv file."
   ]
  },
  {
   "cell_type": "code",
   "execution_count": null,
   "id": "1ba4c0a0-23e7-4a5c-8d1a-a03400b4de0e",
   "metadata": {},
   "outputs": [],
   "source": [
    "group_df = feature_df[['model_id', 'link_type', 'material', 'material-age', 'material-age-velocity']]\n",
    "group_df.to_csv(RESULTS_DIR / 'wq/pipe_groups.csv', index=False)"
   ]
  },
  {
   "cell_type": "markdown",
   "id": "4057112e-bd72-4727-ac88-948a1e635d05",
   "metadata": {},
   "source": [
    "### Observable path"
   ]
  },
  {
   "cell_type": "markdown",
   "id": "66221b22-7b01-42b8-9bda-58c7201a9a82",
   "metadata": {},
   "source": [
    "Compute flow paths across the simulation period."
   ]
  },
  {
   "cell_type": "code",
   "execution_count": null,
   "id": "a0d037d2-0d6e-4227-bc2e-119c90926f9c",
   "metadata": {},
   "outputs": [],
   "source": [
    "sim = epanet_simulator(wn, 'flow', cl_df)\n",
    "flow_df = sim.flow.T.iloc[:, :96] # only need 24-hour period"
   ]
  },
  {
   "cell_type": "markdown",
   "id": "7117dadc-f1f7-44e3-99f3-b61c84f69a65",
   "metadata": {},
   "source": [
    "Plot pipe group statistics along the observable path, i.e., pipes connected by water quality sensors."
   ]
  },
  {
   "cell_type": "code",
   "execution_count": null,
   "id": "e030f08f-7d07-49fd-a1dc-57fff8cbfb49",
   "metadata": {},
   "outputs": [],
   "source": [
    "feature = 'material-age-velocity'\n",
    "wq_sensors_used = 'kiosk + hydrant'\n",
    "\n",
    "if feature == 'material':\n",
    "    display(group_1_df)\n",
    "elif feature == 'material-age':\n",
    "    display(group_2_df)\n",
    "elif feature == 'material-age-velocity':\n",
    "    display(group_3_df)\n",
    "\n",
    "observable_path = get_observable_paths(flow_df, link_df, wq_sensors_used)\n",
    "feature_df_temp = link_df.copy()\n",
    "feature_df_temp['observable_path'] = observable_path\n",
    "feature_df_temp = feature_df_temp[feature_df_temp['link_type'] != 'valve']\n",
    "feature_df['observable_path'] = feature_df_temp['observable_path']\n",
    "observable_df = feature_df[feature_df['observable_path']]\n",
    "\n",
    "feature_by_count = observable_df[feature].value_counts()\n",
    "feature_by_length = observable_df.groupby(feature)['length_normalized'].sum()\n",
    "feature_order = feature_by_count.index\n",
    "feature_by_count = feature_by_count[feature_order]\n",
    "feature_by_length = feature_by_length[feature_order]\n",
    "\n",
    "# histogram plots\n",
    "fig = make_subplots(rows=1, cols=2, horizontal_spacing=0.15)\n",
    "fig.add_trace(go.Bar(x=feature_order, y=feature_by_count.values, marker=dict(color=default_colors[0]), name='pipe count', width=0.5), row=1, col=1)\n",
    "fig.add_trace(go.Bar(x=feature_order, y=feature_by_length.values, marker=dict(color=default_colors[1]), name=\"percent of network\", width=0.5), row=1, col=2)\n",
    "fig.update_layout(\n",
    "    title=f'histograms for feature: {feature} (observable paths only)',\n",
    "    xaxis_title_text='',\n",
    "    xaxis2_title_text='',\n",
    "    yaxis_title_text='pipe count',\n",
    "    yaxis2_title_text='percent of network [%]',\n",
    "    template=\"simple_white\",\n",
    "    width=1200,\n",
    "    height=450,\n",
    "    xaxis=dict(\n",
    "        title_font=dict(size=20),\n",
    "        tickfont=dict(size=20),\n",
    "    ),\n",
    "    xaxis2=dict(\n",
    "        title_font=dict(size=20),\n",
    "        tickfont=dict(size=20),\n",
    "    ),\n",
    "    yaxis=dict(\n",
    "        title_font=dict(size=20),\n",
    "        tickfont=dict(size=20),\n",
    "    ),\n",
    "    yaxis2=dict(\n",
    "        title_font=dict(size=20),\n",
    "        tickfont=dict(size=20),\n",
    "    ),\n",
    ")\n",
    "fig.update_xaxes(categoryorder='array', categoryarray=group_id)\n",
    "fig.show()"
   ]
  },
  {
   "cell_type": "code",
   "execution_count": null,
   "id": "751f3fac-c875-4d8d-86f2-d9b41888445c",
   "metadata": {},
   "outputs": [],
   "source": [
    "feature_by_length"
   ]
  },
  {
   "cell_type": "code",
   "execution_count": null,
   "id": "9531fc44-a470-4034-9b4f-9ee6d6fc6ee8",
   "metadata": {},
   "outputs": [],
   "source": [
    "# network plot\n",
    "fig = plot_network_features(\n",
    "    feature_df, \n",
    "    feature=feature,\n",
    "    observable=True,\n",
    "    flow_df=flow_df,\n",
    "    wq_sensors_used=wq_sensors_used\n",
    ")\n",
    "fig.write_image(\"fig6-1b.pdf\", \n",
    "                engine=\"kaleido\",\n",
    "                scale=1)"
   ]
  },
  {
   "cell_type": "code",
   "execution_count": null,
   "id": "8d1927fe-ba37-465a-a143-4b2d848772c6",
   "metadata": {},
   "outputs": [],
   "source": []
  }
 ],
 "metadata": {
  "kernelspec": {
   "display_name": "Python 3 (ipykernel)",
   "language": "python",
   "name": "python3"
  },
  "language_info": {
   "codemirror_mode": {
    "name": "ipython",
    "version": 3
   },
   "file_extension": ".py",
   "mimetype": "text/x-python",
   "name": "python",
   "nbconvert_exporter": "python",
   "pygments_lexer": "ipython3",
   "version": "3.10.15"
  }
 },
 "nbformat": 4,
 "nbformat_minor": 5
}
